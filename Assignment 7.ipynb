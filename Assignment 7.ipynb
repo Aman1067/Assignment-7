{
 "cells": [
  {
   "cell_type": "markdown",
   "id": "98f4a435",
   "metadata": {},
   "source": [
    "1. What is the name of the feature responsible for generating Regex objects?\n",
    "\n",
    "The feature responsible for generating Regex objects is the re.compile() function from the re module."
   ]
  },
  {
   "cell_type": "markdown",
   "id": "adfa12af",
   "metadata": {
    "scrolled": true
   },
   "source": [
    "2. Why do raw strings often appear in Regex objects?\n",
    "\n",
    "Raw strings are useful anytime you need to specify a string that contains characters that have special meaning in Python, such as backslashes, and you want to specify those characters literally without having to escape them."
   ]
  },
  {
   "cell_type": "markdown",
   "id": "5a8f6b1b",
   "metadata": {},
   "source": [
    "3. What is the return value of the search() method?\n",
    "\n",
    "The search() function searches the string for a match, and returns a Match object if there is a match and returns None if there is no match."
   ]
  },
  {
   "cell_type": "markdown",
   "id": "c6b1cef7",
   "metadata": {},
   "source": [
    "4. From a Match item, how do you get the actual strings that match the pattern?\n",
    "\n",
    " The group() method returns the substring that was matched by the regular expression."
   ]
  },
  {
   "cell_type": "markdown",
   "id": "25f3681f",
   "metadata": {},
   "source": [
    "5. In the regex which created from the r'(\\d\\d\\d)-(\\d\\d\\d-\\d\\d\\d\\d)', what does group zero cover? Group 2? Group 1?\n",
    "\n",
    "In the regular expression r'(\\d\\d\\d)-(\\d\\d\\d-\\d\\d\\d\\d)', group(0) covers the entire matched string, including both the first three digits and the second seven digits separated by a hyphen.group(1) covers the first three digits that appear before the hyphen, and group(2) covers the remaining seven digits separated by the hyphen."
   ]
  },
  {
   "cell_type": "markdown",
   "id": "83d7f6f9",
   "metadata": {},
   "source": [
    "6. In standard expression syntax, parentheses and intervals have distinct meanings. How can you tell a regex that you want it to fit real parentheses and periods?\n",
    "\n",
    " If we want to match real parentheses and periods in our regular expression, we need to \"escape\" them using a backslash \\."
   ]
  },
  {
   "cell_type": "markdown",
   "id": "d62eb475",
   "metadata": {},
   "source": [
    "7. The findall() method returns a string list or a list of string tuples. What causes it to return one of the two options?\n",
    "\n",
    "If there are no capturing groups in the regular expression pattern, findall() returns a list of strings, where each string represents a separate match. If the regular expression pattern contains one or more capturing groups, then findall() returns a list of tuples, where each tuple contains the captured groups for a single match."
   ]
  },
  {
   "cell_type": "markdown",
   "id": "2310adb6",
   "metadata": {},
   "source": [
    "8. In standard expressions, what does the | character mean?\n",
    "\n",
    "The | character is used to represent the logical OR operator, which matches either the expression on its left or the expression on its right."
   ]
  },
  {
   "cell_type": "markdown",
   "id": "a511fa3d",
   "metadata": {},
   "source": [
    "10. In regular expressions, what is the difference between the + and * characters?\n",
    "\n",
    "The main difference between the + and * characters is that the + character requires the preceding element to appear at least once, while the * character allows it to appear zero or more times."
   ]
  },
  {
   "cell_type": "markdown",
   "id": "54891dba",
   "metadata": {},
   "source": [
    "11. What is the difference between {4} and {4,5} in regular expression?\n",
    "\n",
    "{4} it matches the letter exactly 4 times in a string while {4,5} matches the letter between range 4 to 5 in a string"
   ]
  },
  {
   "cell_type": "markdown",
   "id": "54091360",
   "metadata": {},
   "source": [
    "12. What do you mean by the \\d, \\w, and \\s shorthand character classes signify in regular expressions?\n",
    "\n",
    "\\d Returns a match where the string contains digits (numbers from 0-9)\n",
    "\\s Returns a match where the string contains white space character\n",
    "\\w Returns a match where the string contains any word characters (characters from a to Z, digits from 0-9, and the underscore _ character)"
   ]
  },
  {
   "cell_type": "markdown",
   "id": "25324cae",
   "metadata": {},
   "source": [
    "13. What do means by \\D, \\W, and \\S shorthand character classes signify in regular expressions?\n",
    "\n",
    "\\D \tReturns a match where the string DOES NOT contain digits\n",
    "\\S \tReturns a match where the string DOES NOT contain a white space character\n",
    "\\W \tReturns a match where the string DOES NOT contain any word characters"
   ]
  },
  {
   "cell_type": "markdown",
   "id": "2897419d",
   "metadata": {},
   "source": [
    "14. What is the difference between .*? and .*?\n",
    "\n",
    "The .* pattern is a greedy match that matches as many characters as possible until it reaches the end of the line or the next match. On the other hand, the .*? pattern is a non-greedy match that matches as few characters as possible until it reaches the next match."
   ]
  },
  {
   "cell_type": "markdown",
   "id": "b44c9b15",
   "metadata": {},
   "source": [
    "15. What is the syntax for matching both numbers and lowercase letters with a character class?\n",
    "\n",
    " To match both numbers and lowercase letters with a character class, we can use the character class [0-9a-z]."
   ]
  },
  {
   "cell_type": "markdown",
   "id": "eb8fe353",
   "metadata": {},
   "source": [
    "16. What is the procedure for making a normal expression in regax case insensitive?\n",
    "\n",
    "The procedure for making a regular expression case insensitive in Python is to pass the re.IGNORECASE flag as the second argument to the re.compile() function, or as the third argument to the re.search() or re.match() functions."
   ]
  },
  {
   "cell_type": "markdown",
   "id": "4bf5a897",
   "metadata": {},
   "source": [
    "17. What does the . character normally match? What does it match if re.DOTALL is passed as 2nd argument in re.compile()?\n",
    "\n",
    "In a regular expression pattern, the . (dot) character normally matches any character except for a newline character (\\n). However, if the re.DOTALL flag is passed as the second argument to the re.compile() function, then the dot character will match any character, including a newline character."
   ]
  },
  {
   "cell_type": "markdown",
   "id": "d30504be",
   "metadata": {},
   "source": [
    "18. If numReg = re.compile(r'\\d+'), what will numRegex.sub('X', '11 drummers, 10 pipers, five rings, 4 hen') return?\n",
    "\n",
    "'X drummers, X pipers, five rings, X hen'"
   ]
  },
  {
   "cell_type": "markdown",
   "id": "1a18a3a8",
   "metadata": {},
   "source": [
    "19. What does passing re.VERBOSE as the 2nd argument to re.compile() allow to do?\n",
    "\n",
    "Passing re.VERBOSE as the second argument to re.compile() allows for the use of verbose regular expression syntax, which makes it easier to write and read complex regular expressions by allowing for comments and whitespace in the pattern."
   ]
  },
  {
   "cell_type": "markdown",
   "id": "2674885a",
   "metadata": {},
   "source": [
    "20. How would you write a regex that match a number with comma for every three digits? It must match the given following:\n",
    "'42'\n",
    "'1,234'\n",
    "'6,368,745'\n",
    "\n",
    "but not the following:\n",
    "'12,34,567' (which has only two digits between the commas)\n",
    "'1234' (which lacks commas)\n",
    "\n",
    "To match a number with commas for every three digits, you can use the following regular expression:\n",
    "\n",
    "^\\d{1,3}(,\\d{3})*$"
   ]
  },
  {
   "cell_type": "markdown",
   "id": "bef7c40b",
   "metadata": {},
   "source": [
    "21. How would you write a regex that matches the full name of someone whose last name is Watanabe? You can assume that the first name that comes before it will always be one word that begins with a capital letter. The regex must match the following: \n",
    "'Haruto Watanabe'\n",
    "'Alice Watanabe'\n",
    "'RoboCop Watanabe'\n",
    "but not the following:\n",
    "'haruto Watanabe' (where the first name is not capitalized)\n",
    "'Mr. Watanabe' (where the preceding word has a nonletter character)\n",
    "'Watanabe' (which has no first name)\n",
    "'Haruto watanabe'(where Watanabe is not capitalized)\n",
    "\n",
    "To match the full name of someone whose last name is Watanabe, with the first name capitalized, you can use the following regular expression:\n",
    "\n",
    "^[A-Z][a-zA-Z]* Watanabe$\n"
   ]
  },
  {
   "cell_type": "markdown",
   "id": "81d50648",
   "metadata": {},
   "source": [
    "22. How would you write a regex that matches a sentence where the first word is either Alice, Bob,or Carol; the second word is either eats, pets, or throws; the third word is apples, cats, or baseballs; and the sentence ends with a period? This regex should be case-insensitive. It must match the following:\n",
    "'Alice eats apples.'\n",
    "'Bob pets cats.'\n",
    "'Carol throws baseballs.'\n",
    "'Alice throws Apples.'\n",
    "'BOB EATS CATS.'\n",
    "but not the following:\n",
    "'RoboCop eats apples.'\n",
    "'ALICE THROWS FOOTBALLS.'\n",
    "'Carol eats 7 cats.'\n",
    "\n",
    "By using the following regex we can get the required expression:\n",
    "\n",
    "import re\n",
    "regex = re.compile(r'^(Alice|Bob|Carol)\\s+(eats|pets|throws)\\s+(apples|cats|baseballs)\\.$', re.IGNORECASE)\n"
   ]
  }
 ],
 "metadata": {
  "kernelspec": {
   "display_name": "Python 3 (ipykernel)",
   "language": "python",
   "name": "python3"
  },
  "language_info": {
   "codemirror_mode": {
    "name": "ipython",
    "version": 3
   },
   "file_extension": ".py",
   "mimetype": "text/x-python",
   "name": "python",
   "nbconvert_exporter": "python",
   "pygments_lexer": "ipython3",
   "version": "3.9.7"
  }
 },
 "nbformat": 4,
 "nbformat_minor": 5
}
